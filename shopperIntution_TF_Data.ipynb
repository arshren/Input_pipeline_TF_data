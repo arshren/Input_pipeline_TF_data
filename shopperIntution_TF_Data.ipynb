{
 "cells": [
  {
   "cell_type": "code",
   "execution_count": 42,
   "metadata": {},
   "outputs": [],
   "source": [
    "import tensorflow as tf\n",
    "config = tf.compat.v1.ConfigProto()\n",
    "config.gpu_options.allow_growth = True\n",
    "sess = tf.compat.v1.Session(config=config)\n",
    "from tensorflow.keras import optimizers, callbacks\n",
    "import numpy as np\n",
    "import pandas as pd\n",
    "import pathlib\n",
    "import os\n",
    "from os import getcwd\n",
    "import matplotlib.pyplot as plt\n",
    "import pandas as pd\n",
    "from glob import glob\n",
    "import multiprocessing\n",
    "import time\n",
    "from tensorflow import feature_column\n",
    "from tensorflow.keras import layers\n",
    "from sklearn.model_selection import train_test_split"
   ]
  },
  {
   "cell_type": "markdown",
   "metadata": {},
   "source": [
    "## https://www.kaggle.com/annettecatherinepaul/online-shoppers-behavior-prediction\n",
    "\n",
    "__Learning how and when shoppers will research and purchase goods online is important to businesses as they can use customer behavior insights to target advertising, marketing, and deals to potential customers to further increase their sales and revenue__"
   ]
  },
  {
   "cell_type": "code",
   "execution_count": 43,
   "metadata": {},
   "outputs": [
    {
     "data": {
      "text/html": [
       "<div>\n",
       "<style scoped>\n",
       "    .dataframe tbody tr th:only-of-type {\n",
       "        vertical-align: middle;\n",
       "    }\n",
       "\n",
       "    .dataframe tbody tr th {\n",
       "        vertical-align: top;\n",
       "    }\n",
       "\n",
       "    .dataframe thead th {\n",
       "        text-align: right;\n",
       "    }\n",
       "</style>\n",
       "<table border=\"1\" class=\"dataframe\">\n",
       "  <thead>\n",
       "    <tr style=\"text-align: right;\">\n",
       "      <th></th>\n",
       "      <th>Administrative</th>\n",
       "      <th>Administrative_Duration</th>\n",
       "      <th>Informational</th>\n",
       "      <th>Informational_Duration</th>\n",
       "      <th>ProductRelated</th>\n",
       "      <th>ProductRelated_Duration</th>\n",
       "      <th>BounceRates</th>\n",
       "      <th>ExitRates</th>\n",
       "      <th>PageValues</th>\n",
       "      <th>SpecialDay</th>\n",
       "      <th>Month</th>\n",
       "      <th>OperatingSystems</th>\n",
       "      <th>Browser</th>\n",
       "      <th>Region</th>\n",
       "      <th>TrafficType</th>\n",
       "      <th>VisitorType</th>\n",
       "      <th>Weekend</th>\n",
       "      <th>Revenue</th>\n",
       "    </tr>\n",
       "  </thead>\n",
       "  <tbody>\n",
       "    <tr>\n",
       "      <td>0</td>\n",
       "      <td>0</td>\n",
       "      <td>0.0</td>\n",
       "      <td>0</td>\n",
       "      <td>0.0</td>\n",
       "      <td>1</td>\n",
       "      <td>0.000000</td>\n",
       "      <td>0.20</td>\n",
       "      <td>0.20</td>\n",
       "      <td>0.0</td>\n",
       "      <td>0.0</td>\n",
       "      <td>Feb</td>\n",
       "      <td>1</td>\n",
       "      <td>1</td>\n",
       "      <td>1</td>\n",
       "      <td>1</td>\n",
       "      <td>Returning_Visitor</td>\n",
       "      <td>False</td>\n",
       "      <td>False</td>\n",
       "    </tr>\n",
       "    <tr>\n",
       "      <td>1</td>\n",
       "      <td>0</td>\n",
       "      <td>0.0</td>\n",
       "      <td>0</td>\n",
       "      <td>0.0</td>\n",
       "      <td>2</td>\n",
       "      <td>64.000000</td>\n",
       "      <td>0.00</td>\n",
       "      <td>0.10</td>\n",
       "      <td>0.0</td>\n",
       "      <td>0.0</td>\n",
       "      <td>Feb</td>\n",
       "      <td>2</td>\n",
       "      <td>2</td>\n",
       "      <td>1</td>\n",
       "      <td>2</td>\n",
       "      <td>Returning_Visitor</td>\n",
       "      <td>False</td>\n",
       "      <td>False</td>\n",
       "    </tr>\n",
       "    <tr>\n",
       "      <td>2</td>\n",
       "      <td>0</td>\n",
       "      <td>0.0</td>\n",
       "      <td>0</td>\n",
       "      <td>0.0</td>\n",
       "      <td>1</td>\n",
       "      <td>0.000000</td>\n",
       "      <td>0.20</td>\n",
       "      <td>0.20</td>\n",
       "      <td>0.0</td>\n",
       "      <td>0.0</td>\n",
       "      <td>Feb</td>\n",
       "      <td>4</td>\n",
       "      <td>1</td>\n",
       "      <td>9</td>\n",
       "      <td>3</td>\n",
       "      <td>Returning_Visitor</td>\n",
       "      <td>False</td>\n",
       "      <td>False</td>\n",
       "    </tr>\n",
       "    <tr>\n",
       "      <td>3</td>\n",
       "      <td>0</td>\n",
       "      <td>0.0</td>\n",
       "      <td>0</td>\n",
       "      <td>0.0</td>\n",
       "      <td>2</td>\n",
       "      <td>2.666667</td>\n",
       "      <td>0.05</td>\n",
       "      <td>0.14</td>\n",
       "      <td>0.0</td>\n",
       "      <td>0.0</td>\n",
       "      <td>Feb</td>\n",
       "      <td>3</td>\n",
       "      <td>2</td>\n",
       "      <td>2</td>\n",
       "      <td>4</td>\n",
       "      <td>Returning_Visitor</td>\n",
       "      <td>False</td>\n",
       "      <td>False</td>\n",
       "    </tr>\n",
       "    <tr>\n",
       "      <td>4</td>\n",
       "      <td>0</td>\n",
       "      <td>0.0</td>\n",
       "      <td>0</td>\n",
       "      <td>0.0</td>\n",
       "      <td>10</td>\n",
       "      <td>627.500000</td>\n",
       "      <td>0.02</td>\n",
       "      <td>0.05</td>\n",
       "      <td>0.0</td>\n",
       "      <td>0.0</td>\n",
       "      <td>Feb</td>\n",
       "      <td>3</td>\n",
       "      <td>3</td>\n",
       "      <td>1</td>\n",
       "      <td>4</td>\n",
       "      <td>Returning_Visitor</td>\n",
       "      <td>True</td>\n",
       "      <td>False</td>\n",
       "    </tr>\n",
       "  </tbody>\n",
       "</table>\n",
       "</div>"
      ],
      "text/plain": [
       "   Administrative  Administrative_Duration  Informational  \\\n",
       "0               0                      0.0              0   \n",
       "1               0                      0.0              0   \n",
       "2               0                      0.0              0   \n",
       "3               0                      0.0              0   \n",
       "4               0                      0.0              0   \n",
       "\n",
       "   Informational_Duration  ProductRelated  ProductRelated_Duration  \\\n",
       "0                     0.0               1                 0.000000   \n",
       "1                     0.0               2                64.000000   \n",
       "2                     0.0               1                 0.000000   \n",
       "3                     0.0               2                 2.666667   \n",
       "4                     0.0              10               627.500000   \n",
       "\n",
       "   BounceRates  ExitRates  PageValues  SpecialDay Month  OperatingSystems  \\\n",
       "0         0.20       0.20         0.0         0.0   Feb                 1   \n",
       "1         0.00       0.10         0.0         0.0   Feb                 2   \n",
       "2         0.20       0.20         0.0         0.0   Feb                 4   \n",
       "3         0.05       0.14         0.0         0.0   Feb                 3   \n",
       "4         0.02       0.05         0.0         0.0   Feb                 3   \n",
       "\n",
       "   Browser  Region  TrafficType        VisitorType  Weekend  Revenue  \n",
       "0        1       1            1  Returning_Visitor    False    False  \n",
       "1        2       1            2  Returning_Visitor    False    False  \n",
       "2        1       9            3  Returning_Visitor    False    False  \n",
       "3        2       2            4  Returning_Visitor    False    False  \n",
       "4        3       1            4  Returning_Visitor     True    False  "
      ]
     },
     "execution_count": 43,
     "metadata": {},
     "output_type": "execute_result"
    }
   ],
   "source": [
    "df = pd.read_csv(r'C:\\data\\Data_Class\\online_shoppers_intention.csv', index_col=None)\n",
    "df.head()"
   ]
  },
  {
   "cell_type": "code",
   "execution_count": 44,
   "metadata": {},
   "outputs": [
    {
     "name": "stdout",
     "output_type": "stream",
     "text": [
      "<class 'pandas.core.frame.DataFrame'>\n",
      "RangeIndex: 12330 entries, 0 to 12329\n",
      "Data columns (total 18 columns):\n",
      "Administrative             12330 non-null int64\n",
      "Administrative_Duration    12330 non-null float64\n",
      "Informational              12330 non-null int64\n",
      "Informational_Duration     12330 non-null float64\n",
      "ProductRelated             12330 non-null int64\n",
      "ProductRelated_Duration    12330 non-null float64\n",
      "BounceRates                12330 non-null float64\n",
      "ExitRates                  12330 non-null float64\n",
      "PageValues                 12330 non-null float64\n",
      "SpecialDay                 12330 non-null float64\n",
      "Month                      12330 non-null object\n",
      "OperatingSystems           12330 non-null int64\n",
      "Browser                    12330 non-null int64\n",
      "Region                     12330 non-null int64\n",
      "TrafficType                12330 non-null int64\n",
      "VisitorType                12330 non-null object\n",
      "Weekend                    12330 non-null bool\n",
      "Revenue                    12330 non-null bool\n",
      "dtypes: bool(2), float64(7), int64(7), object(2)\n",
      "memory usage: 1.5+ MB\n"
     ]
    }
   ],
   "source": [
    "df.info()"
   ]
  },
  {
   "cell_type": "code",
   "execution_count": 64,
   "metadata": {},
   "outputs": [],
   "source": [
    "\n",
    "df['Weekend']=df['Weekend'].astype(int)\n",
    "df['Revenue']=df['Revenue'].astype(int)"
   ]
  },
  {
   "cell_type": "code",
   "execution_count": 46,
   "metadata": {},
   "outputs": [
    {
     "name": "stdout",
     "output_type": "stream",
     "text": [
      "<class 'pandas.core.frame.DataFrame'>\n",
      "RangeIndex: 12330 entries, 0 to 12329\n",
      "Data columns (total 18 columns):\n",
      "Administrative             12330 non-null int64\n",
      "Administrative_Duration    12330 non-null float64\n",
      "Informational              12330 non-null int64\n",
      "Informational_Duration     12330 non-null float64\n",
      "ProductRelated             12330 non-null int64\n",
      "ProductRelated_Duration    12330 non-null float64\n",
      "BounceRates                12330 non-null float64\n",
      "ExitRates                  12330 non-null float64\n",
      "PageValues                 12330 non-null float64\n",
      "SpecialDay                 12330 non-null float64\n",
      "Month                      12330 non-null object\n",
      "OperatingSystems           12330 non-null int64\n",
      "Browser                    12330 non-null int64\n",
      "Region                     12330 non-null int64\n",
      "TrafficType                12330 non-null int64\n",
      "VisitorType                12330 non-null object\n",
      "Weekend                    12330 non-null int32\n",
      "Revenue                    12330 non-null bool\n",
      "dtypes: bool(1), float64(7), int32(1), int64(7), object(2)\n",
      "memory usage: 1.6+ MB\n"
     ]
    }
   ],
   "source": [
    "df.info()"
   ]
  },
  {
   "cell_type": "code",
   "execution_count": 47,
   "metadata": {},
   "outputs": [
    {
     "name": "stdout",
     "output_type": "stream",
     "text": [
      "7891 train examples\n",
      "1973 validation examples\n",
      "2466 test examples\n"
     ]
    }
   ],
   "source": [
    "train, test = train_test_split(df, test_size=0.2)\n",
    "train, val = train_test_split(train, test_size=0.2)\n",
    "print(len(train), 'train examples')\n",
    "print(len(val), 'validation examples')\n",
    "print(len(test), 'test examples')"
   ]
  },
  {
   "cell_type": "markdown",
   "metadata": {},
   "source": [
    "## Create an input pipeline using tf.data\n",
    "__Next, wrap the dataframes with tf.data.__\n",
    "\n",
    "__This will enable us to use feature columns as a bridge to map from the columns in the Pandas dataframe to features used to train the model.__ \n"
   ]
  },
  {
   "cell_type": "code",
   "execution_count": 65,
   "metadata": {},
   "outputs": [],
   "source": [
    "# A utility method to create a tf.data dataset from a Pandas Dataframe\n",
    "def df_to_dataset(dataframe, label,shuffle=True, batch_size=32, ):\n",
    "  df = dataframe.copy()\n",
    "  labels = df.pop(label)\n",
    "  ds = tf.data.Dataset.from_tensor_slices((dict(df), labels))\n",
    "  if shuffle:\n",
    "    ds = ds.shuffle(buffer_size=len(df)-100)\n",
    "  ds = ds.batch(batch_size)\n",
    "  return ds"
   ]
  },
  {
   "cell_type": "code",
   "execution_count": 66,
   "metadata": {},
   "outputs": [],
   "source": [
    "batch_size = 4 # A small batch sized is used for demonstration purposes\n",
    "train_ds = df_to_dataset(train,'Revenue', batch_size=batch_size)\n",
    "val_ds = df_to_dataset(val,'Revenue', shuffle=False, batch_size=batch_size)\n",
    "test_ds = df_to_dataset(test,'Revenue', shuffle=False, batch_size=batch_size)"
   ]
  },
  {
   "cell_type": "markdown",
   "metadata": {},
   "source": [
    "## After creating the the input pipeline, check to see the format of the data it returns with  a small batch size."
   ]
  },
  {
   "cell_type": "code",
   "execution_count": 67,
   "metadata": {},
   "outputs": [
    {
     "name": "stdout",
     "output_type": "stream",
     "text": [
      "Every feature: ['Administrative', 'Administrative_Duration', 'Informational', 'Informational_Duration', 'ProductRelated', 'ProductRelated_Duration', 'BounceRates', 'ExitRates', 'PageValues', 'SpecialDay', 'Month', 'OperatingSystems', 'Browser', 'Region', 'TrafficType', 'VisitorType', 'Weekend']\n",
      "A batch of Amount: tf.Tensor(\n",
      "[b'Returning_Visitor' b'Returning_Visitor' b'New_Visitor'\n",
      " b'Returning_Visitor'], shape=(4,), dtype=string)\n",
      "A batch of Class: tf.Tensor([False False False  True], shape=(4,), dtype=bool)\n"
     ]
    }
   ],
   "source": [
    "for feature_batch, label_batch in train_ds.take(1):\n",
    "  print('Every feature:', list(feature_batch.keys()))\n",
    "  print('A batch of Amount:', feature_batch['VisitorType'])\n",
    "  print('A batch of Class:', label_batch )"
   ]
  },
  {
   "cell_type": "code",
   "execution_count": 68,
   "metadata": {},
   "outputs": [
    {
     "data": {
      "text/plain": [
       "Index(['Administrative', 'Administrative_Duration', 'Informational',\n",
       "       'Informational_Duration', 'ProductRelated', 'ProductRelated_Duration',\n",
       "       'BounceRates', 'ExitRates', 'PageValues', 'SpecialDay', 'Month',\n",
       "       'OperatingSystems', 'Browser', 'Region', 'TrafficType', 'VisitorType',\n",
       "       'Weekend', 'Revenue'],\n",
       "      dtype='object')"
      ]
     },
     "execution_count": 68,
     "metadata": {},
     "output_type": "execute_result"
    }
   ],
   "source": [
    "df.columns"
   ]
  },
  {
   "cell_type": "code",
   "execution_count": 69,
   "metadata": {},
   "outputs": [],
   "source": [
    "feature_columns = []\n",
    "\n",
    "# numeric cols\n",
    "for header in ['Administrative', 'Administrative_Duration', 'Informational',\n",
    "       'Informational_Duration', 'ProductRelated', 'ProductRelated_Duration',\n",
    "       'BounceRates', 'ExitRates', 'PageValues', 'SpecialDay']:\n",
    "  feature_columns.append(feature_column.numeric_column(header))"
   ]
  },
  {
   "cell_type": "code",
   "execution_count": 70,
   "metadata": {},
   "outputs": [],
   "source": [
    "# indicator_columns\n",
    "indicator_column_names = [ 'Month',\n",
    "       'OperatingSystems', 'Browser', 'Region', 'TrafficType', 'VisitorType',\n",
    "       'Weekend' ]\n",
    "for col_name in indicator_column_names:\n",
    "  categorical_column = feature_column.categorical_column_with_vocabulary_list(\n",
    "      col_name, df[col_name].unique())\n",
    "  indicator_column = feature_column.indicator_column(categorical_column)\n",
    "  feature_columns.append(indicator_column)"
   ]
  },
  {
   "cell_type": "code",
   "execution_count": 71,
   "metadata": {},
   "outputs": [
    {
     "data": {
      "text/plain": [
       "[NumericColumn(key='Administrative', shape=(1,), default_value=None, dtype=tf.float32, normalizer_fn=None),\n",
       " NumericColumn(key='Administrative_Duration', shape=(1,), default_value=None, dtype=tf.float32, normalizer_fn=None),\n",
       " NumericColumn(key='Informational', shape=(1,), default_value=None, dtype=tf.float32, normalizer_fn=None),\n",
       " NumericColumn(key='Informational_Duration', shape=(1,), default_value=None, dtype=tf.float32, normalizer_fn=None),\n",
       " NumericColumn(key='ProductRelated', shape=(1,), default_value=None, dtype=tf.float32, normalizer_fn=None),\n",
       " NumericColumn(key='ProductRelated_Duration', shape=(1,), default_value=None, dtype=tf.float32, normalizer_fn=None),\n",
       " NumericColumn(key='BounceRates', shape=(1,), default_value=None, dtype=tf.float32, normalizer_fn=None),\n",
       " NumericColumn(key='ExitRates', shape=(1,), default_value=None, dtype=tf.float32, normalizer_fn=None),\n",
       " NumericColumn(key='PageValues', shape=(1,), default_value=None, dtype=tf.float32, normalizer_fn=None),\n",
       " NumericColumn(key='SpecialDay', shape=(1,), default_value=None, dtype=tf.float32, normalizer_fn=None),\n",
       " IndicatorColumn(categorical_column=VocabularyListCategoricalColumn(key='Month', vocabulary_list=('Feb', 'Mar', 'May', 'Oct', 'June', 'Jul', 'Aug', 'Nov', 'Sep', 'Dec'), dtype=tf.string, default_value=-1, num_oov_buckets=0)),\n",
       " IndicatorColumn(categorical_column=VocabularyListCategoricalColumn(key='OperatingSystems', vocabulary_list=(1, 2, 4, 3, 7, 6, 8, 5), dtype=tf.int64, default_value=-1, num_oov_buckets=0)),\n",
       " IndicatorColumn(categorical_column=VocabularyListCategoricalColumn(key='Browser', vocabulary_list=(1, 2, 3, 4, 5, 6, 7, 10, 8, 9, 12, 13, 11), dtype=tf.int64, default_value=-1, num_oov_buckets=0)),\n",
       " IndicatorColumn(categorical_column=VocabularyListCategoricalColumn(key='Region', vocabulary_list=(1, 9, 2, 3, 4, 5, 6, 7, 8), dtype=tf.int64, default_value=-1, num_oov_buckets=0)),\n",
       " IndicatorColumn(categorical_column=VocabularyListCategoricalColumn(key='TrafficType', vocabulary_list=(1, 2, 3, 4, 5, 6, 7, 8, 9, 10, 11, 12, 13, 14, 15, 18, 19, 16, 17, 20), dtype=tf.int64, default_value=-1, num_oov_buckets=0)),\n",
       " IndicatorColumn(categorical_column=VocabularyListCategoricalColumn(key='VisitorType', vocabulary_list=('Returning_Visitor', 'New_Visitor', 'Other'), dtype=tf.string, default_value=-1, num_oov_buckets=0)),\n",
       " IndicatorColumn(categorical_column=VocabularyListCategoricalColumn(key='Weekend', vocabulary_list=(0, 1), dtype=tf.int64, default_value=-1, num_oov_buckets=0))]"
      ]
     },
     "execution_count": 71,
     "metadata": {},
     "output_type": "execute_result"
    }
   ],
   "source": [
    "feature_columns"
   ]
  },
  {
   "cell_type": "markdown",
   "metadata": {},
   "source": [
    "## Create a feature layer, we have defined our feature columns, we will use a DenseFeatures layer to input them to our Keras model."
   ]
  },
  {
   "cell_type": "code",
   "execution_count": 72,
   "metadata": {},
   "outputs": [],
   "source": [
    "feature_layer = tf.keras.layers.DenseFeatures(feature_columns)"
   ]
  },
  {
   "cell_type": "code",
   "execution_count": 73,
   "metadata": {},
   "outputs": [],
   "source": [
    "batch_size = 32\n",
    "train_ds = df_to_dataset(train,'Revenue', batch_size=batch_size)\n",
    "val_ds = df_to_dataset(val, 'Revenue', shuffle=False, batch_size=batch_size)\n",
    "test_ds = df_to_dataset(test, 'Revenue',shuffle=False, batch_size=batch_size)"
   ]
  },
  {
   "cell_type": "code",
   "execution_count": 74,
   "metadata": {},
   "outputs": [
    {
     "name": "stdout",
     "output_type": "stream",
     "text": [
      "Epoch 1/50\n",
      "WARNING:tensorflow:Layers in a Sequential model should only have a single input tensor, but we receive a <class 'dict'> input: {'Administrative': <tf.Tensor 'ExpandDims:0' shape=(None, 1) dtype=int64>, 'Administrative_Duration': <tf.Tensor 'ExpandDims_1:0' shape=(None, 1) dtype=float64>, 'Informational': <tf.Tensor 'ExpandDims_5:0' shape=(None, 1) dtype=int64>, 'Informational_Duration': <tf.Tensor 'ExpandDims_6:0' shape=(None, 1) dtype=float64>, 'ProductRelated': <tf.Tensor 'ExpandDims_10:0' shape=(None, 1) dtype=int64>, 'ProductRelated_Duration': <tf.Tensor 'ExpandDims_11:0' shape=(None, 1) dtype=float64>, 'BounceRates': <tf.Tensor 'ExpandDims_2:0' shape=(None, 1) dtype=float64>, 'ExitRates': <tf.Tensor 'ExpandDims_4:0' shape=(None, 1) dtype=float64>, 'PageValues': <tf.Tensor 'ExpandDims_9:0' shape=(None, 1) dtype=float64>, 'SpecialDay': <tf.Tensor 'ExpandDims_13:0' shape=(None, 1) dtype=float64>, 'Month': <tf.Tensor 'ExpandDims_7:0' shape=(None, 1) dtype=string>, 'OperatingSystems': <tf.Tensor 'ExpandDims_8:0' shape=(None, 1) dtype=int64>, 'Browser': <tf.Tensor 'ExpandDims_3:0' shape=(None, 1) dtype=int64>, 'Region': <tf.Tensor 'ExpandDims_12:0' shape=(None, 1) dtype=int64>, 'TrafficType': <tf.Tensor 'ExpandDims_14:0' shape=(None, 1) dtype=int64>, 'VisitorType': <tf.Tensor 'ExpandDims_15:0' shape=(None, 1) dtype=string>, 'Weekend': <tf.Tensor 'ExpandDims_16:0' shape=(None, 1) dtype=int32>}\n",
      "Consider rewriting this model with the Functional API.\n",
      "WARNING:tensorflow:Layer dense_features_2 is casting an input tensor from dtype float64 to the layer's dtype of float32, which is new behavior in TensorFlow 2.  The layer has dtype float32 because its dtype defaults to floatx.\n",
      "\n",
      "If you intended to run this layer in float32, you can safely ignore this warning. If in doubt, this warning is likely only an issue if you are porting a TensorFlow 1.X model to TensorFlow 2.\n",
      "\n",
      "To change all layers to have dtype float64 by default, call `tf.keras.backend.set_floatx('float64')`. To change just this layer, pass dtype='float64' to the layer constructor. If you are the author of this layer, you can disable autocasting by passing autocast=False to the base Layer constructor.\n",
      "\n",
      "WARNING:tensorflow:Layers in a Sequential model should only have a single input tensor, but we receive a <class 'dict'> input: {'Administrative': <tf.Tensor 'ExpandDims:0' shape=(None, 1) dtype=int64>, 'Administrative_Duration': <tf.Tensor 'ExpandDims_1:0' shape=(None, 1) dtype=float64>, 'Informational': <tf.Tensor 'ExpandDims_5:0' shape=(None, 1) dtype=int64>, 'Informational_Duration': <tf.Tensor 'ExpandDims_6:0' shape=(None, 1) dtype=float64>, 'ProductRelated': <tf.Tensor 'ExpandDims_10:0' shape=(None, 1) dtype=int64>, 'ProductRelated_Duration': <tf.Tensor 'ExpandDims_11:0' shape=(None, 1) dtype=float64>, 'BounceRates': <tf.Tensor 'ExpandDims_2:0' shape=(None, 1) dtype=float64>, 'ExitRates': <tf.Tensor 'ExpandDims_4:0' shape=(None, 1) dtype=float64>, 'PageValues': <tf.Tensor 'ExpandDims_9:0' shape=(None, 1) dtype=float64>, 'SpecialDay': <tf.Tensor 'ExpandDims_13:0' shape=(None, 1) dtype=float64>, 'Month': <tf.Tensor 'ExpandDims_7:0' shape=(None, 1) dtype=string>, 'OperatingSystems': <tf.Tensor 'ExpandDims_8:0' shape=(None, 1) dtype=int64>, 'Browser': <tf.Tensor 'ExpandDims_3:0' shape=(None, 1) dtype=int64>, 'Region': <tf.Tensor 'ExpandDims_12:0' shape=(None, 1) dtype=int64>, 'TrafficType': <tf.Tensor 'ExpandDims_14:0' shape=(None, 1) dtype=int64>, 'VisitorType': <tf.Tensor 'ExpandDims_15:0' shape=(None, 1) dtype=string>, 'Weekend': <tf.Tensor 'ExpandDims_16:0' shape=(None, 1) dtype=int32>}\n",
      "Consider rewriting this model with the Functional API.\n",
      "240/247 [============================>.] - ETA: 0s - loss: 5.1018 - accuracy: 0.7457WARNING:tensorflow:Layers in a Sequential model should only have a single input tensor, but we receive a <class 'dict'> input: {'Administrative': <tf.Tensor 'ExpandDims:0' shape=(None, 1) dtype=int64>, 'Administrative_Duration': <tf.Tensor 'ExpandDims_1:0' shape=(None, 1) dtype=float64>, 'Informational': <tf.Tensor 'ExpandDims_5:0' shape=(None, 1) dtype=int64>, 'Informational_Duration': <tf.Tensor 'ExpandDims_6:0' shape=(None, 1) dtype=float64>, 'ProductRelated': <tf.Tensor 'ExpandDims_10:0' shape=(None, 1) dtype=int64>, 'ProductRelated_Duration': <tf.Tensor 'ExpandDims_11:0' shape=(None, 1) dtype=float64>, 'BounceRates': <tf.Tensor 'ExpandDims_2:0' shape=(None, 1) dtype=float64>, 'ExitRates': <tf.Tensor 'ExpandDims_4:0' shape=(None, 1) dtype=float64>, 'PageValues': <tf.Tensor 'ExpandDims_9:0' shape=(None, 1) dtype=float64>, 'SpecialDay': <tf.Tensor 'ExpandDims_13:0' shape=(None, 1) dtype=float64>, 'Month': <tf.Tensor 'ExpandDims_7:0' shape=(None, 1) dtype=string>, 'OperatingSystems': <tf.Tensor 'ExpandDims_8:0' shape=(None, 1) dtype=int64>, 'Browser': <tf.Tensor 'ExpandDims_3:0' shape=(None, 1) dtype=int64>, 'Region': <tf.Tensor 'ExpandDims_12:0' shape=(None, 1) dtype=int64>, 'TrafficType': <tf.Tensor 'ExpandDims_14:0' shape=(None, 1) dtype=int64>, 'VisitorType': <tf.Tensor 'ExpandDims_15:0' shape=(None, 1) dtype=string>, 'Weekend': <tf.Tensor 'ExpandDims_16:0' shape=(None, 1) dtype=int32>}\n",
      "Consider rewriting this model with the Functional API.\n",
      "247/247 [==============================] - 2s 7ms/step - loss: 4.9907 - accuracy: 0.7474 - val_loss: 0.6169 - val_accuracy: 0.8343\n",
      "Epoch 2/50\n",
      "247/247 [==============================] - 1s 5ms/step - loss: 0.7665 - accuracy: 0.8308 - val_loss: 0.5430 - val_accuracy: 0.8348\n",
      "Epoch 3/50\n",
      "247/247 [==============================] - 1s 6ms/step - loss: 0.5897 - accuracy: 0.8451 - val_loss: 0.5112 - val_accuracy: 0.8353\n",
      "Epoch 4/50\n",
      "247/247 [==============================] - 1s 5ms/step - loss: 0.5148 - accuracy: 0.8458 - val_loss: 0.4729 - val_accuracy: 0.8348\n",
      "Epoch 5/50\n",
      "247/247 [==============================] - 1s 5ms/step - loss: 0.4911 - accuracy: 0.8472 - val_loss: 0.4642 - val_accuracy: 0.8348\n",
      "Epoch 6/50\n",
      "247/247 [==============================] - 1s 5ms/step - loss: 0.4771 - accuracy: 0.8470 - val_loss: 0.4467 - val_accuracy: 0.8348\n",
      "Epoch 7/50\n",
      "247/247 [==============================] - 1s 6ms/step - loss: 0.4469 - accuracy: 0.8474 - val_loss: 0.4195 - val_accuracy: 0.8348\n",
      "Epoch 8/50\n",
      "247/247 [==============================] - 1s 5ms/step - loss: 0.4427 - accuracy: 0.8477 - val_loss: 0.4239 - val_accuracy: 0.8358\n",
      "Epoch 9/50\n",
      "247/247 [==============================] - 1s 5ms/step - loss: 0.4275 - accuracy: 0.8483 - val_loss: 0.4194 - val_accuracy: 0.8358\n",
      "Epoch 10/50\n",
      "247/247 [==============================] - 1s 5ms/step - loss: 0.4211 - accuracy: 0.8486 - val_loss: 0.4222 - val_accuracy: 0.8363\n",
      "Epoch 11/50\n",
      "247/247 [==============================] - 1s 5ms/step - loss: 0.4125 - accuracy: 0.8488 - val_loss: 0.4111 - val_accuracy: 0.8363\n",
      "Epoch 12/50\n",
      "247/247 [==============================] - 1s 5ms/step - loss: 0.4036 - accuracy: 0.8494 - val_loss: 0.4171 - val_accuracy: 0.8363\n",
      "Epoch 13/50\n",
      "247/247 [==============================] - 1s 5ms/step - loss: 0.3981 - accuracy: 0.8496 - val_loss: 0.3795 - val_accuracy: 0.8373\n",
      "Epoch 14/50\n",
      "247/247 [==============================] - 1s 5ms/step - loss: 0.3967 - accuracy: 0.8491 - val_loss: 0.3975 - val_accuracy: 0.8378\n",
      "Epoch 15/50\n",
      "247/247 [==============================] - 1s 6ms/step - loss: 0.3852 - accuracy: 0.8502 - val_loss: 0.3859 - val_accuracy: 0.8378\n",
      "Epoch 16/50\n",
      "247/247 [==============================] - 1s 5ms/step - loss: 0.3963 - accuracy: 0.8506 - val_loss: 0.3975 - val_accuracy: 0.8393\n",
      "Epoch 17/50\n",
      "247/247 [==============================] - 1s 5ms/step - loss: 0.3909 - accuracy: 0.8507 - val_loss: 0.3972 - val_accuracy: 0.8403\n",
      "Epoch 18/50\n",
      "247/247 [==============================] - 1s 5ms/step - loss: 0.3747 - accuracy: 0.8506 - val_loss: 0.3815 - val_accuracy: 0.8409\n",
      "Epoch 19/50\n",
      "247/247 [==============================] - 1s 6ms/step - loss: 0.3726 - accuracy: 0.8513 - val_loss: 0.3615 - val_accuracy: 0.8403\n",
      "Epoch 20/50\n",
      "247/247 [==============================] - 1s 5ms/step - loss: 0.3662 - accuracy: 0.8520 - val_loss: 0.3849 - val_accuracy: 0.8403\n",
      "Epoch 21/50\n",
      "247/247 [==============================] - 1s 6ms/step - loss: 0.3703 - accuracy: 0.8515 - val_loss: 0.3838 - val_accuracy: 0.8409\n"
     ]
    },
    {
     "name": "stdout",
     "output_type": "stream",
     "text": [
      "Epoch 22/50\n",
      "247/247 [==============================] - 1s 6ms/step - loss: 0.3618 - accuracy: 0.8550 - val_loss: 0.3446 - val_accuracy: 0.8424\n",
      "Epoch 23/50\n",
      "247/247 [==============================] - 1s 6ms/step - loss: 0.3534 - accuracy: 0.8552 - val_loss: 0.3835 - val_accuracy: 0.8398\n",
      "Epoch 24/50\n",
      "247/247 [==============================] - 1s 6ms/step - loss: 0.3580 - accuracy: 0.8527 - val_loss: 0.3362 - val_accuracy: 0.8419\n",
      "Epoch 25/50\n",
      "247/247 [==============================] - 1s 6ms/step - loss: 0.3535 - accuracy: 0.8560 - val_loss: 0.3306 - val_accuracy: 0.8444\n",
      "Epoch 26/50\n",
      "247/247 [==============================] - 1s 6ms/step - loss: 0.3485 - accuracy: 0.8552 - val_loss: 0.3709 - val_accuracy: 0.8429\n",
      "Epoch 27/50\n",
      "247/247 [==============================] - 1s 6ms/step - loss: 0.3380 - accuracy: 0.8560 - val_loss: 0.3243 - val_accuracy: 0.8454\n",
      "Epoch 28/50\n",
      "247/247 [==============================] - 1s 5ms/step - loss: 0.3332 - accuracy: 0.8569 - val_loss: 0.3601 - val_accuracy: 0.8459\n",
      "Epoch 29/50\n",
      "247/247 [==============================] - 1s 6ms/step - loss: 0.3222 - accuracy: 0.8615 - val_loss: 0.3166 - val_accuracy: 0.8454\n",
      "Epoch 30/50\n",
      "247/247 [==============================] - 1s 6ms/step - loss: 0.3254 - accuracy: 0.8592 - val_loss: 0.3034 - val_accuracy: 0.8469\n",
      "Epoch 31/50\n",
      "247/247 [==============================] - 1s 6ms/step - loss: 0.3208 - accuracy: 0.8582 - val_loss: 0.3426 - val_accuracy: 0.8469\n",
      "Epoch 32/50\n",
      "247/247 [==============================] - 1s 6ms/step - loss: 0.3286 - accuracy: 0.8609 - val_loss: 0.3009 - val_accuracy: 0.8535\n",
      "Epoch 33/50\n",
      "247/247 [==============================] - 1s 6ms/step - loss: 0.3163 - accuracy: 0.8602 - val_loss: 0.3083 - val_accuracy: 0.8479\n",
      "Epoch 34/50\n",
      "247/247 [==============================] - 1s 6ms/step - loss: 0.3032 - accuracy: 0.8686 - val_loss: 0.2891 - val_accuracy: 0.8566\n",
      "Epoch 35/50\n",
      "247/247 [==============================] - 1s 6ms/step - loss: 0.3052 - accuracy: 0.8699 - val_loss: 0.2802 - val_accuracy: 0.8571\n",
      "Epoch 36/50\n",
      "247/247 [==============================] - 1s 6ms/step - loss: 0.3040 - accuracy: 0.8667 - val_loss: 0.2990 - val_accuracy: 0.8540\n",
      "Epoch 37/50\n",
      "247/247 [==============================] - 1s 6ms/step - loss: 0.3088 - accuracy: 0.8660 - val_loss: 0.3196 - val_accuracy: 0.8469\n",
      "Epoch 38/50\n",
      "247/247 [==============================] - 1s 5ms/step - loss: 0.2927 - accuracy: 0.8669 - val_loss: 0.2797 - val_accuracy: 0.8652\n",
      "Epoch 39/50\n",
      "247/247 [==============================] - 1s 6ms/step - loss: 0.2969 - accuracy: 0.8666 - val_loss: 0.2867 - val_accuracy: 0.8586\n",
      "Epoch 40/50\n",
      "247/247 [==============================] - 1s 5ms/step - loss: 0.2887 - accuracy: 0.8688 - val_loss: 0.2851 - val_accuracy: 0.8520\n",
      "Epoch 41/50\n",
      "247/247 [==============================] - 1s 6ms/step - loss: 0.2892 - accuracy: 0.8672 - val_loss: 0.2690 - val_accuracy: 0.8616\n",
      "Epoch 42/50\n",
      "247/247 [==============================] - 1s 6ms/step - loss: 0.2939 - accuracy: 0.8728 - val_loss: 0.2859 - val_accuracy: 0.8545\n",
      "Epoch 43/50\n",
      "247/247 [==============================] - 1s 6ms/step - loss: 0.2858 - accuracy: 0.8718 - val_loss: 0.2797 - val_accuracy: 0.8591\n",
      "Epoch 44/50\n",
      "247/247 [==============================] - 1s 6ms/step - loss: 0.2844 - accuracy: 0.8709 - val_loss: 0.2837 - val_accuracy: 0.8576\n",
      "Epoch 45/50\n",
      "247/247 [==============================] - 1s 6ms/step - loss: 0.2791 - accuracy: 0.8711 - val_loss: 0.2797 - val_accuracy: 0.8621\n",
      "Epoch 46/50\n",
      "247/247 [==============================] - 1s 5ms/step - loss: 0.2812 - accuracy: 0.8726 - val_loss: 0.2728 - val_accuracy: 0.8576\n",
      "Epoch 47/50\n",
      "247/247 [==============================] - 1s 5ms/step - loss: 0.2887 - accuracy: 0.8687 - val_loss: 0.2749 - val_accuracy: 0.8530\n",
      "Epoch 48/50\n",
      "247/247 [==============================] - 1s 6ms/step - loss: 0.2861 - accuracy: 0.8705 - val_loss: 0.2755 - val_accuracy: 0.8515\n",
      "Epoch 49/50\n",
      "247/247 [==============================] - 1s 6ms/step - loss: 0.2837 - accuracy: 0.8710 - val_loss: 0.2736 - val_accuracy: 0.8596\n",
      "Epoch 50/50\n",
      "247/247 [==============================] - 1s 6ms/step - loss: 0.2807 - accuracy: 0.8728 - val_loss: 0.2728 - val_accuracy: 0.8606\n"
     ]
    },
    {
     "data": {
      "text/plain": [
       "<tensorflow.python.keras.callbacks.History at 0x17593afb5c8>"
      ]
     },
     "execution_count": 74,
     "metadata": {},
     "output_type": "execute_result"
    }
   ],
   "source": [
    "model = tf.keras.Sequential([\n",
    "  feature_layer,\n",
    "  layers.Dense(128, activation='relu'),\n",
    "  layers.Dense(256, activation='relu'),\n",
    "  layers.Dropout(.3),\n",
    "  layers.Dense(64, activation='relu'),\n",
    "  layers.Dropout(.3),\n",
    "  layers.Dense(1)\n",
    "])\n",
    "optimizer = optimizers.Adam(lr=0.0005, beta_1=0.7, beta_2=0.999, amsgrad=True)\n",
    "model.compile(optimizer=optimizer,\n",
    "              loss=tf.keras.losses.BinaryCrossentropy(from_logits=True),\n",
    "              metrics=['accuracy'])\n",
    "\n",
    "model.fit(train_ds,\n",
    "          validation_data=val_ds,\n",
    "          epochs=50)"
   ]
  },
  {
   "cell_type": "markdown",
   "metadata": {},
   "source": [
    "## https://colab.research.google.com/github/tensorflow/docs/blob/master/site/en/tutorials/structured_data/feature_columns.ipynb#scrollTo=_YJPPb3xTPeZ"
   ]
  },
  {
   "cell_type": "code",
   "execution_count": null,
   "metadata": {},
   "outputs": [],
   "source": []
  }
 ],
 "metadata": {
  "kernelspec": {
   "display_name": "Python 3",
   "language": "python",
   "name": "python3"
  },
  "language_info": {
   "codemirror_mode": {
    "name": "ipython",
    "version": 3
   },
   "file_extension": ".py",
   "mimetype": "text/x-python",
   "name": "python",
   "nbconvert_exporter": "python",
   "pygments_lexer": "ipython3",
   "version": "3.7.4"
  }
 },
 "nbformat": 4,
 "nbformat_minor": 2
}
